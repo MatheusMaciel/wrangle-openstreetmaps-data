{
 "cells": [
  {
   "cell_type": "code",
   "execution_count": null,
   "metadata": {
    "collapsed": false
   },
   "outputs": [],
   "source": [
    "import xml.etree.cElementTree as ET\n",
    "import audit_osm as audit\n",
    "import fix_osm as fix\n",
    "import xml2mongo as x2m\n",
    "\n",
    "\n",
    "SAMPLE_FILE = \"miami_sample.osm\"\n",
    "OSM_FILE = \"miami_florida.osm\"\n",
    "OSM_v1_FILE = \"miami_florida_v1.osm\""
   ]
  },
  {
   "cell_type": "markdown",
   "metadata": {},
   "source": [
    "## Como replicar a análise"
   ]
  },
  {
   "cell_type": "code",
   "execution_count": null,
   "metadata": {
    "collapsed": false
   },
   "outputs": [],
   "source": [
    "# 1. Contagem de subtags e verificação da estrutura dos nós e caminhos\n",
    "audit.audit_osm(OSM_FILE, 1)"
   ]
  },
  {
   "cell_type": "code",
   "execution_count": null,
   "metadata": {
    "collapsed": true
   },
   "outputs": [],
   "source": [
    "# 2. Visão geral dos valores da subtags escolhidas\n",
    "audit.audit_osm(OSM_v1_FILE, 2)"
   ]
  },
  {
   "cell_type": "code",
   "execution_count": null,
   "metadata": {
    "collapsed": false
   },
   "outputs": [],
   "source": [
    "# 3. Correção dos problemas encontrados na iteração anterior\n",
    "fix.fix_data(OSM_FILE)"
   ]
  },
  {
   "cell_type": "markdown",
   "metadata": {},
   "source": [
    "### Os passos 1, 2 e 3 podem ser executados quantas vezes forem necessárias"
   ]
  },
  {
   "cell_type": "code",
   "execution_count": null,
   "metadata": {
    "collapsed": false
   },
   "outputs": [],
   "source": [
    "# conversão para json \n",
    "x2m.convert_to_json(OSM_v1_FILE)"
   ]
  },
  {
   "cell_type": "code",
   "execution_count": null,
   "metadata": {
    "collapsed": true
   },
   "outputs": [],
   "source": [
    "# inserção no MongoDB\n",
    "x2m.save_to_mongo(OSM_v1_FILE)"
   ]
  }
 ],
 "metadata": {
  "kernelspec": {
   "display_name": "Python 2",
   "language": "python",
   "name": "python2"
  },
  "language_info": {
   "codemirror_mode": {
    "name": "ipython",
    "version": 2
   },
   "file_extension": ".py",
   "mimetype": "text/x-python",
   "name": "python",
   "nbconvert_exporter": "python",
   "pygments_lexer": "ipython2",
   "version": "2.7.13"
  }
 },
 "nbformat": 4,
 "nbformat_minor": 2
}
