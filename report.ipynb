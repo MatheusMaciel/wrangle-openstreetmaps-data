{
 "cells": [
  {
   "cell_type": "markdown",
   "metadata": {},
   "source": [
    "# Miami Open Street Maps cleaning\n",
    "\n",
    "Map Area: Miami, Florida, United States Map zen \n",
    "Map zen: [link](https://mapzen.com/data/metro-extracts/metro/miami_florida/)\n",
    "\n",
    "OBS.: Para saber como replicar a limpeza, olhe [aqui](p3-cleaning-osm-data.html)\n"
   ]
  },
  {
   "cell_type": "markdown",
   "metadata": {},
   "source": [
    "## 1. Problemas encontrados no seu mapa\n",
    "\n",
    "Após baixar dos dados e executar uma análise inicial em uma amostra deles, encontrei alguns problemas como:\n",
    "\n",
    "* Falta de padronização em mais de um atributo (tag)\n",
    "* Falta de atributos\n",
    "* Nós com descrição de estados diferentes do esperado (como Calífórnia e Wyoming)\n",
    "\n",
    "### Falta de padronização\n",
    "\n",
    "Um problema que ficou evidente desde o inicio da análise foi a falta de padronizão dos valores de várias tags como: 'addr:postcode', 'addr:state', 'addr:country' tanto para nós como para caminhos. Para o caso do estado e do país, eu defini valore padronizados e atualizei todos os valores errados para o padrão.\n",
    "\n",
    "Para o código postal, a tarefa foi mais complexa. Essa tag possuia valores como:\n",
    "\n",
    "* 33328 (valor esperado)\n",
    "* 33483-4534\n",
    "* FL 33166\n",
    "* FL33401\n",
    "\n",
    "Após uma pesquisa, consegui identificar que o formato que usa \"5 digitos - 4 digitos\" é uma versão extendida do valor esperado e consequentemente não é um formato errado.\n",
    "\n",
    "Para corrigir o problema do código postal foi necessário apenas a utlização de uma expressão regular que encontra dentro do texto os formatos esperados.\n",
    "\n",
    "### Falta de atributos\n",
    "\n",
    "Com base na documentação ([link](http://wiki.openstreetmap.org/wiki/OSM_XML)), tanto um nó com um caminho deve possuir um atributo chamado *visible*. Entretanto, esse atributo não foi encontrado nos dados analisados. Isso deve indicar que esse atributo não é realmente obrigatório. \n",
    "\n",
    "Esse problema não é referente aos dados de forma direta, e sim a documentação que deveria deixar mais claro quais os atributos são realmente obrigatórios.\n",
    "\n",
    "\n",
    "### Descrições incorretas\n",
    "\n",
    "O problema que chamou mais atenção foi a presença de nós de outros estados nos dados. O estados esperado era Flórida, porém, encontrei nós dos estados da Califórnia e de Wyoming. Após uma análise mais específica desses nós, identifiquei outro fator estranho: as coordenadas geográficas desses nós idicavam que eles pertencem ao estado da Flórida.\n",
    "\n",
    "Como não consegui identificar se o erro ocorreu no posicionamento geográfico ou na descrição do nó, decidi exclui-los dos dados.\n",
    "\n",
    "### Problema de memória\n",
    "\n",
    "Ao executar essa mesma análise inicial no conjunto completo dos dados, identifiquei outro problema, o consumo de memória. Ao utilizar o elemnttree eu perco o contexto do xml completo, logo se preciso realizar uma contagem de tags é necessário que eu guarde essa contagem em alguma variável. Por esse motivo e pelo fato da minha máquina não ser tão robusta, tive problema de desempenho chegando ao ponto de não conserguir terminar a execução dos scripts.\n",
    "\n",
    "Para solucionar o problema citado, decidi dividir o script em iterações onde cada iteração salva arquivos de texto com informações que achei necessárias para a execução da prócima iteração."
   ]
  },
  {
   "cell_type": "markdown",
   "metadata": {},
   "source": [
    "## 2. Visão geral dos Dados\n",
    "\n",
    "### Tamanho dos arquivos\n",
    "\n",
    "![image](osm-size.PNG)"
   ]
  },
  {
   "cell_type": "code",
   "execution_count": 1,
   "metadata": {
    "collapsed": true
   },
   "outputs": [],
   "source": [
    "import pymongo\n",
    "\n",
    "from pymongo import MongoClient\n",
    "client = MongoClient(\"mongodb://localhost:27017\")\n",
    "db = client.osm"
   ]
  },
  {
   "cell_type": "markdown",
   "metadata": {},
   "source": [
    "### Quantidade de documentos"
   ]
  },
  {
   "cell_type": "code",
   "execution_count": 2,
   "metadata": {
    "collapsed": false
   },
   "outputs": [
    {
     "data": {
      "text/plain": [
       "2945303"
      ]
     },
     "execution_count": 2,
     "metadata": {},
     "output_type": "execute_result"
    }
   ],
   "source": [
    "db.miami.find().count()"
   ]
  },
  {
   "cell_type": "markdown",
   "metadata": {},
   "source": [
    "### Quantidade de nós (*nodes*)"
   ]
  },
  {
   "cell_type": "code",
   "execution_count": 3,
   "metadata": {
    "collapsed": false
   },
   "outputs": [
    {
     "data": {
      "text/plain": [
       "2615900"
      ]
     },
     "execution_count": 3,
     "metadata": {},
     "output_type": "execute_result"
    }
   ],
   "source": [
    "db.miami.find({\"xml_tag_type\":\"node\"}).count()"
   ]
  },
  {
   "cell_type": "markdown",
   "metadata": {},
   "source": [
    "### Quantidade de caminhos (*ways*)"
   ]
  },
  {
   "cell_type": "code",
   "execution_count": 4,
   "metadata": {
    "collapsed": false
   },
   "outputs": [
    {
     "data": {
      "text/plain": [
       "329403"
      ]
     },
     "execution_count": 4,
     "metadata": {},
     "output_type": "execute_result"
    }
   ],
   "source": [
    "db.miami.find({\"xml_tag_type\":\"way\"}).count()"
   ]
  },
  {
   "cell_type": "markdown",
   "metadata": {},
   "source": [
    "### Quantidade de usuários únicos"
   ]
  },
  {
   "cell_type": "code",
   "execution_count": 5,
   "metadata": {
    "collapsed": false
   },
   "outputs": [
    {
     "data": {
      "text/plain": [
       "1784"
      ]
     },
     "execution_count": 5,
     "metadata": {},
     "output_type": "execute_result"
    }
   ],
   "source": [
    "len(db.miami.distinct(\"uid\"))"
   ]
  },
  {
   "cell_type": "markdown",
   "metadata": {},
   "source": [
    "### Usuário que mais contribuiu"
   ]
  },
  {
   "cell_type": "code",
   "execution_count": 6,
   "metadata": {
    "collapsed": false
   },
   "outputs": [
    {
     "data": {
      "text/plain": [
       "[{u'_id': u'4346588', u'count': 854117, u'user': u'MiamiBuildingsImport'}]"
      ]
     },
     "execution_count": 6,
     "metadata": {},
     "output_type": "execute_result"
    }
   ],
   "source": [
    "count_by_user = {\"$group\":{\"_id\":\"$uid\", \"user\" : { \"$first\": '$user' }, \"count\":{\"$sum\":1}}}\n",
    "sort = {\"$sort\":{\"count\":-1}}\n",
    "top1 = {\"$limit\":1}\n",
    "\n",
    "pipeline = [count_by_user, sort, top1]\n",
    "\n",
    "list(db.miami.aggregate(pipeline))"
   ]
  },
  {
   "cell_type": "markdown",
   "metadata": {},
   "source": [
    "### Quantidade de usuários que contribuiram apenas uma vez"
   ]
  },
  {
   "cell_type": "code",
   "execution_count": 7,
   "metadata": {
    "collapsed": false
   },
   "outputs": [
    {
     "data": {
      "text/plain": [
       "[{u'_id': 1, u'num_users': 536}]"
      ]
     },
     "execution_count": 7,
     "metadata": {},
     "output_type": "execute_result"
    }
   ],
   "source": [
    "count_by_user = {\"$group\":{\"_id\":\"$uid\", \"count\":{\"$sum\":1}}}\n",
    "count_by_count = {\"$group\":{\"_id\":\"$count\", \"num_users\":{\"$sum\":1}}}\n",
    "sort = {\"$sort\":{\"_id\":1}}\n",
    "top1 = {\"$limit\":1}\n",
    "\n",
    "pipeline = [count_by_user, count_by_count, sort, top1]\n",
    "\n",
    "list(db.miami.aggregate(pipeline))"
   ]
  },
  {
   "cell_type": "markdown",
   "metadata": {},
   "source": [
    "### Onde relaxar nas férias?\n",
    "\n",
    "Decidi passar as férias em Miami e como não gosto de caminhar quero saber qual o local (cidade que pertence a zona metropolitana de Miami) com maior variedade de serviços para que assim eu não precise me locomover muito dentro da cidade.\n",
    "\n",
    "As 5 cidades com mais pontos marcados são:"
   ]
  },
  {
   "cell_type": "code",
   "execution_count": 26,
   "metadata": {
    "collapsed": false
   },
   "outputs": [
    {
     "data": {
      "text/plain": [
       "[{u'_id': u'Weston', u'count': 18201},\n",
       " {u'_id': u'Miami', u'count': 410},\n",
       " {u'_id': u'Miami Beach', u'count': 210},\n",
       " {u'_id': u'Wellington', u'count': 97},\n",
       " {u'_id': u'Coral Springs', u'count': 92}]"
      ]
     },
     "execution_count": 26,
     "metadata": {},
     "output_type": "execute_result"
    }
   ],
   "source": [
    "match_node_tag = {\"$match\":{\"xml_tag_type\":\"node\"}}\n",
    "has_city = {\"$match\":{'addr:city':{'$exists':'true'}}}\n",
    "group_by_city = {\"$group\":{\"_id\":\"$addr:city.v\", \"count\":{\"$sum\":1}}}\n",
    "sort = {\"$sort\":{\"count\":-1}}\n",
    "top5 = {\"$limit\":5}\n",
    "\n",
    "pipeline = [match_node_tag, has_city, group_by_city, sort, top5]\n",
    "\n",
    "list(db.miami.aggregate(pipeline))"
   ]
  },
  {
   "cell_type": "markdown",
   "metadata": {},
   "source": [
    "### Onde se divertir em Miami?\n",
    "\n",
    "Decidi ir passar as férias em Miami novamente mas agora estou indo com a família. Por esse motivo estou procurando a cidade da região metropolitana de Miami com mais locais destinados ao lazer (no osm: \"amenity\").\n",
    "\n",
    "\n",
    "As 5 cidades com mais marcações de *amenity* são:"
   ]
  },
  {
   "cell_type": "code",
   "execution_count": 28,
   "metadata": {
    "collapsed": false
   },
   "outputs": [
    {
     "data": {
      "text/plain": [
       "[{u'_id': u'Miami', u'count': 147},\n",
       " {u'_id': u'Miami Beach', u'count': 104},\n",
       " {u'_id': u'Fort Lauderdale', u'count': 81},\n",
       " {u'_id': u'West Palm Beach', u'count': 47},\n",
       " {u'_id': u'Doral', u'count': 28}]"
      ]
     },
     "execution_count": 28,
     "metadata": {},
     "output_type": "execute_result"
    }
   ],
   "source": [
    "has_city = {\"$match\":{'addr:city':{'$exists':'true'}}}\n",
    "is_amenity = {\"$match\":{'amenity':{'$exists':'true'}}}\n",
    "group_by_city = {\"$group\":{\"_id\":\"$addr:city.v\", \"count\":{\"$sum\":1}}}\n",
    "sort = {\"$sort\":{\"count\":-1}}\n",
    "top5 = {\"$limit\":5}\n",
    "\n",
    "pipeline = [has_city, is_amenity, group_by_city, sort, top5]\n",
    "\n",
    "list(db.miami.aggregate(pipeline))"
   ]
  },
  {
   "cell_type": "markdown",
   "metadata": {},
   "source": [
    "Sabendo que a cidade de Miami é minha melhor escolhar decidi verificar que tipos de lazer esses pontos oferecem."
   ]
  },
  {
   "cell_type": "code",
   "execution_count": 33,
   "metadata": {
    "collapsed": false
   },
   "outputs": [
    {
     "data": {
      "text/plain": [
       "[{u'_id': u'restaurant', u'count': 37},\n",
       " {u'_id': u'fast_food', u'count': 21},\n",
       " {u'_id': u'cafe', u'count': 13},\n",
       " {u'_id': u'school', u'count': 10},\n",
       " {u'_id': u'pharmacy', u'count': 8},\n",
       " {u'_id': u'fuel', u'count': 5},\n",
       " {u'_id': u'hospital', u'count': 5},\n",
       " {u'_id': u'theatre', u'count': 5},\n",
       " {u'_id': u'bank', u'count': 5},\n",
       " {u'_id': u'library', u'count': 5}]"
      ]
     },
     "execution_count": 33,
     "metadata": {},
     "output_type": "execute_result"
    }
   ],
   "source": [
    "is_miami = {\"$match\":{'addr:city.v':'Miami'}}\n",
    "has_amenity = {\"$match\":{'amenity':{'$exists':'true'}}}\n",
    "group_by_city = {\"$group\":{\"_id\":\"$amenity.v\", \"count\":{\"$sum\":1}}}\n",
    "sort = {\"$sort\":{\"count\":-1}}\n",
    "top10 = {\"$limit\":10}\n",
    "\n",
    "pipeline = [is_miami, is_amenity, group_by_city, sort, top10]\n",
    "\n",
    "list(db.miami.aggregate(pipeline))"
   ]
  },
  {
   "cell_type": "markdown",
   "metadata": {},
   "source": [
    "## 3. Outras ideias em relação aos conjuntos de dados\n",
    "\n",
    "### Tipo do caminho\n",
    "\n",
    "Com base na [wiki do osm](http://wiki.openstreetmap.org/wiki/Way), um caminho pode ser classificado em três tipos: *oneway* e *area*. Porém, a quantidade de caminhos com tal classificação é baixa:"
   ]
  },
  {
   "cell_type": "code",
   "execution_count": null,
   "metadata": {
    "collapsed": false
   },
   "outputs": [],
   "source": [
    "print \"Oneway: \", db.miami.find({'oneway':{'$exists': 'true'}}).count()\n",
    "print \"Area: \", db.miami.find({'area':{'$exists': 'true'}}).count()"
   ]
  },
  {
   "cell_type": "markdown",
   "metadata": {},
   "source": [
    "Uma forma de resolver esse problema é automatizar o processo de classificação dos caminhos. Calcular a próximidade do(s) último(s) nó(s) de um caminho com o(s) primeiro(s) é uma solução possível para tal problema."
   ]
  },
  {
   "cell_type": "markdown",
   "metadata": {},
   "source": [
    "### Contribuição\n",
    "\n",
    "Como foi visto na seção 2 a quantidade de usuários que contribuíram para a base é bem pequena. Além disso é possível identificar que poucos usuários contribuem bem mais que o restante."
   ]
  },
  {
   "cell_type": "code",
   "execution_count": 34,
   "metadata": {
    "collapsed": false
   },
   "outputs": [
    {
     "data": {
      "text/plain": [
       "[{u'_id': u'4346588', u'count': 854117, u'user': u'MiamiBuildingsImport'},\n",
       " {u'_id': u'369983', u'count': 352895, u'user': u'grouper'},\n",
       " {u'_id': u'2533093', u'count': 263532, u'user': u'carciofo'},\n",
       " {u'_id': u'147510', u'count': 226299, u'user': u'woodpeck_fixbot'},\n",
       " {u'_id': u'2318', u'count': 135934, u'user': u'Latze'},\n",
       " {u'_id': u'429761', u'count': 116219, u'user': u'freebeer'},\n",
       " {u'_id': u'451693', u'count': 54646, u'user': u'bot-mode'},\n",
       " {u'_id': u'207745', u'count': 50627, u'user': u'NE2'},\n",
       " {u'_id': u'550560', u'count': 50383, u'user': u'Seandebasti'},\n",
       " {u'_id': u'230350', u'count': 45007, u'user': u'westendguy'}]"
      ]
     },
     "execution_count": 34,
     "metadata": {},
     "output_type": "execute_result"
    }
   ],
   "source": [
    "count_by_user = {\"$group\":{\"_id\":\"$uid\", \"user\" : { \"$first\": '$user' }, \"count\":{\"$sum\":1}}}\n",
    "sort = {\"$sort\":{\"count\":-1}}\n",
    "top1 = {\"$limit\":10}\n",
    "\n",
    "pipeline = [count_by_user, sort, top1]\n",
    "\n",
    "list(db.miami.aggregate(pipeline))"
   ]
  },
  {
   "cell_type": "markdown",
   "metadata": {},
   "source": [
    "Acredito que existam duas vertentes que podem ser focadas:\n",
    "1. Fazer com que os usuários contribuam mais\n",
    "2. Fazer que novas pessoas se tornem usuários\n",
    "\n",
    "Uma solução para o ponto 1 é a introdução de recompensas para cada contribuição realizada de forma que quanto mais o usuário ajude o sistema mais ele vai conseguir usufruir do serviço.\n",
    "\n",
    "O sistema de recompensas também pode ajudar o ponto 2. Entretanto, acredito isso deve ser feito em conjunto com outras ferramentas mais difundidas. Por exemplo, se o Facebook passa usar o OSM como serviço de mapas e o usuário que marcar uma localização que não existe ele seria motivado a adicionar tal localização no OSM.\n",
    "\n",
    "#### Problema do aumento de usuários\n",
    "\n",
    "De certa maneira o aumento da quantidade de usuário contribuindo é um aspecto positivo, porém, isso pode trazer uma problema perigoso: informação errada. Quanto maior a quantidade de pessoas colaborando, maior a chance de existir problemas causados pelo erro humano (algumas vezes intencionais).  Esse problema pode ser atacado com a implantação de um sistema de validação: sempre que um usuário considerar que uma informação está errada ele pode marcar essa informação como incorreta e sugerir como corrigi-la. Assim que alguma informação atingir um limiar de marcações ela seria atualizada.\n",
    "\n",
    "Outro problema que pode ser criado pelo aumento de usuários contribuindo é a falta de padronização da informação. Para solucionar esse problema poderiam ser criados *templates* para informações mais recorrentes. Por exemplo: se o usuário vai adicionar um restaurante ao OSM ele poderia receber a sugestão de usar o *template restaurant*, o *template amenity* ou em último caso o usuário pode decidir não usar nenhum template. A criação dos templates também pode ser colaborativa e só os templates mais votados seriam sugeridos para o usuário. "
   ]
  }
 ],
 "metadata": {
  "kernelspec": {
   "display_name": "Python 2",
   "language": "python",
   "name": "python2"
  },
  "language_info": {
   "codemirror_mode": {
    "name": "ipython",
    "version": 2
   },
   "file_extension": ".py",
   "mimetype": "text/x-python",
   "name": "python",
   "nbconvert_exporter": "python",
   "pygments_lexer": "ipython2",
   "version": "2.7.13"
  }
 },
 "nbformat": 4,
 "nbformat_minor": 2
}
